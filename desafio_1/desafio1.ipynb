{
 "cells": [
  {
   "cell_type": "markdown",
   "id": "775f4bb0",
   "metadata": {},
   "source": [
    "# Gabriel Freitas Willig e Luiz Eduardo Passoni de Souza\n",
    "# RA: 2240289 e\n",
    "\n",
    "## ICSI31 - Desafio 1"
   ]
  },
  {
   "cell_type": "code",
   "execution_count": null,
   "id": "3e3b6f1b",
   "metadata": {},
   "outputs": [],
   "source": [
    "import networkx as nx\n",
    "import matplotlib.pyplot as plt"
   ]
  },
  {
   "cell_type": "code",
   "execution_count": null,
   "id": "2b68ce6b",
   "metadata": {},
   "outputs": [],
   "source": [
    "from os import path\n",
    "graph_path = path.abspath(path.join(path.dirname(__file__), \"..\", \"GraphMissingEdges.gml\"))"
   ]
  },
  {
   "cell_type": "code",
   "execution_count": null,
   "id": "eca0c5ef",
   "metadata": {},
   "outputs": [],
   "source": [
    "G = nx.read_gml(graph_path)"
   ]
  }
 ],
 "metadata": {
  "kernelspec": {
   "display_name": ".venv",
   "language": "python",
   "name": "python3"
  },
  "language_info": {
   "name": "python",
   "version": "3.13.3"
  }
 },
 "nbformat": 4,
 "nbformat_minor": 5
}
