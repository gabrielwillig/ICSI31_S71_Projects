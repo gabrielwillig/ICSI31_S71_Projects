{
 "cells": [
  {
   "cell_type": "markdown",
   "id": "81900067",
   "metadata": {},
   "source": [
    "# Gabriel Freitas Willig\n",
    "# RA: 2240289\n",
    "\n",
    "## ICSI31 - Exercicío 3\n",
    "\n",
    "### 1 - Usando a rede do desafio \"GraphMissingEdges.gml\", faça o que é pedido abaixo."
   ]
  },
  {
   "cell_type": "code",
   "execution_count": 4,
   "id": "728c8544",
   "metadata": {},
   "outputs": [],
   "source": [
    "import networkx as nx\n",
    "import matplotlib.pyplot as plt\n",
    "import pandas as pd\n"
   ]
  },
  {
   "cell_type": "code",
   "execution_count": 2,
   "id": "877cf4b1",
   "metadata": {},
   "outputs": [],
   "source": [
    "G = nx.read_gml(\"../GraphMissingEdges.gml\")"
   ]
  },
  {
   "cell_type": "code",
   "execution_count": 3,
   "id": "694d9957",
   "metadata": {},
   "outputs": [
    {
     "name": "stdout",
     "output_type": "stream",
     "text": [
      "Número de nós: 4575\n",
      "Número de arestas: 18991\n"
     ]
    }
   ],
   "source": [
    "print(f\"Número de nós: {G.number_of_nodes()}\")\n",
    "print(f\"Número de arestas: {G.number_of_edges()}\")"
   ]
  },
  {
   "cell_type": "markdown",
   "id": "463a4ad8",
   "metadata": {},
   "source": [
    "#### a) Compute a centralidade de grau e identifique os top 50 lugares de acordo com essa métrica. Mostre o nome e categorias dos lugares"
   ]
  },
  {
   "cell_type": "code",
   "execution_count": 10,
   "id": "41d3a422",
   "metadata": {},
   "outputs": [
    {
     "name": "stdout",
     "output_type": "stream",
     "text": [
      "\n",
      "--- Top 50 em Centralidade de Intermediação (Pontes) ---\n",
      "- Gaucho Parrilla Argentina (221,64,1,83): 0.0507\n",
      "- Condado Tacos (1,393,275,208,58,651): 0.0490\n",
      "- Noodlehead (370,1,620,641): 0.0463\n",
      "- täkō (1,420,651): 0.0446\n",
      "- Bakersfield (58,275,393,208,420,83,651,1): 0.0418\n",
      "- Smallman Galley (275,604,420,173,1,58,641): 0.0400\n",
      "- Meat & Potatoes (428,641,262,490,420,1,188): 0.0374\n",
      "- DiAnoia's Eatery (1,287,289,405): 0.0369\n",
      "- Piada Italian Street Food (741,1,405,46): 0.0343\n",
      "- Banh Mi & Ti (1,362,857,204,641): 0.0289\n",
      "- Pork & Beans (604,1,208,612,58,275,437,706,133,641,289,613,330): 0.0284\n",
      "- Social House Seven (1,861,791,870,550): 0.0280\n",
      "- Millie's Homemade Ice Cream (1,289,641,653): 0.0275\n",
      "- Southern Tier Brewery Pittsburgh (58,201,1,100,275,641,188): 0.0267\n",
      "- City Works - Pittsburgh (420,100,612,604,1,58,341,275): 0.0254\n",
      "- The Porch at Schenley (1,602,289,82,248,420): 0.0243\n",
      "- Altius (133,641,1,275,5,58,420,575): 0.0240\n",
      "- The Abbey on Butler Street (275,420,362,641,1,58,173): 0.0236\n",
      "- Muddy Waters Oyster Bar (208,275,58,354,1,83): 0.0230\n",
      "- Burgh'ers Brewing (248,420,133,641,289,1,741,706,127,201): 0.0225\n",
      "- Mindful Brewing Company (641,201,696): 0.0223\n",
      "- Pirata (289,208,817,58,275,1): 0.0223\n",
      "- Primanti Bros (289,1,618,341,275,501,58,420): 0.0221\n",
      "- Proper Brick Oven & Tap Room (405,641,696,58,1,82,275): 0.0219\n",
      "- Butcher and the Rye (694,275,420,208,58,641,1): 0.0216\n",
      "- Church Brew Works (275,1,58,201,604,575,641): 0.0210\n",
      "- Totopo Mexican Kitchen and Bar (275,1,64,58,651): 0.0210\n",
      "- Ki Ramen (1,620,661,870,275,58): 0.0208\n",
      "- Deluca's Diner (162,594,604,1): 0.0201\n",
      "- Redhawk Coffee (1,162,344,173,575,641): 0.0197\n",
      "- Everyday Noodles (631,620,791,1): 0.0188\n",
      "- Hofbrauhaus Pittsburgh (641,275,100,829,1,201,855,58): 0.0186\n",
      "- Smoke BBQ Taqueria (1,613,248,651,393): 0.0184\n",
      "- Primanti Bros (289,275,58,1,341,306,420): 0.0184\n",
      "- B52 Cafe (496,158,636,173,162,641,362,1): 0.0184\n",
      "- Naturoll Creamery (653,575,641,262,414): 0.0181\n",
      "- Sienna Mercato (208,405,420,58,275,82,1): 0.0181\n",
      "- Istanbul Sofra (891,447,79,1,158,189,641): 0.0181\n",
      "- The Milk Shake Factory (641,653,838,575,262): 0.0179\n",
      "- Senyai Thai Kitchen (1,620,631,370,83): 0.0177\n",
      "- Eleven (1,420): 0.0177\n",
      "- Kaya (1,58,275,64,817): 0.0173\n",
      "- Fat Heads Saloon (1,275,604,58): 0.0168\n",
      "- Tres Rios (208,275,1,651,58): 0.0168\n",
      "- Umami (1,550,58,870,275): 0.0168\n",
      "- Pittsburgh Poke (370,844,870,641,1,550): 0.0168\n",
      "- Ten Penny (1,420,604): 0.0168\n",
      "- Coca Cafe (162,641,1,370,173,420): 0.0166\n",
      "- Mount Everest Sushi (550,1,870,217,641,844,861): 0.0166\n",
      "- The Urban Tap (420,602,741,188,1,604,289): 0.0166\n"
     ]
    }
   ],
   "source": [
    "centralidade_grau = nx.degree_centrality(G)\n",
    "print(\"\\n--- Top 50 em Centralidade de Intermediação (Pontes) ---\")\n",
    "s_grau = pd.Series(centralidade_grau).nlargest(50)\n",
    "for node_id, centralidade in s_grau.items():\n",
    "    nome = G.nodes[node_id].get('name', node_id)\n",
    "    categorias = G.nodes[node_id].get('categories', 'N/A')\n",
    "    print(f\"- {nome} ({categorias}): {centralidade:.4f}\")"
   ]
  },
  {
   "cell_type": "markdown",
   "id": "3655ec17",
   "metadata": {},
   "source": [
    "#### b) Compute a centralidade de intermediação e identifique os top 50 lugares de acordo com essa métrica. Mostre o nome e categorias dos lugares."
   ]
  },
  {
   "cell_type": "code",
   "execution_count": 11,
   "id": "f46b8e32",
   "metadata": {},
   "outputs": [
    {
     "name": "stdout",
     "output_type": "stream",
     "text": [
      "\n",
      "--- Top 50 em Centralidade de Intermediação (Pontes) ---\n",
      "- Gaucho Parrilla Argentina (221,64,1,83): 0.0383\n",
      "- Condado Tacos (1,393,275,208,58,651): 0.0350\n",
      "- Noodlehead (370,1,620,641): 0.0310\n",
      "- täkō (1,420,651): 0.0300\n",
      "- Bakersfield (58,275,393,208,420,83,651,1): 0.0285\n",
      "- Smallman Galley (275,604,420,173,1,58,641): 0.0246\n",
      "- Meat & Potatoes (428,641,262,490,420,1,188): 0.0225\n",
      "- DiAnoia's Eatery (1,287,289,405): 0.0209\n",
      "- Piada Italian Street Food (741,1,405,46): 0.0177\n",
      "- City Works - Pittsburgh (420,100,612,604,1,58,341,275): 0.0142\n",
      "- Banh Mi & Ti (1,362,857,204,641): 0.0140\n",
      "- Pork & Beans (604,1,208,612,58,275,437,706,133,641,289,613,330): 0.0140\n",
      "- Southern Tier Brewery Pittsburgh (58,201,1,100,275,641,188): 0.0131\n",
      "- Social House Seven (1,861,791,870,550): 0.0128\n",
      "- Mindful Brewing Company (641,201,696): 0.0121\n",
      "- Millie's Homemade Ice Cream (1,289,641,653): 0.0118\n",
      "- The Abbey on Butler Street (275,420,362,641,1,58,173): 0.0106\n",
      "- The Porch at Schenley (1,602,289,82,248,420): 0.0105\n",
      "- Totopo Mexican Kitchen and Bar (275,1,64,58,651): 0.0102\n",
      "- Burgh'ers Brewing (248,420,133,641,289,1,741,706,127,201): 0.0100\n",
      "- Altius (133,641,1,275,5,58,420,575): 0.0097\n",
      "- Ki Ramen (1,620,661,870,275,58): 0.0097\n",
      "- Pirata (289,208,817,58,275,1): 0.0095\n",
      "- Proper Brick Oven & Tap Room (405,641,696,58,1,82,275): 0.0093\n",
      "- Primanti Bros (289,1,618,341,275,501,58,420): 0.0092\n",
      "- Muddy Waters Oyster Bar (208,275,58,354,1,83): 0.0086\n",
      "- Smoke BBQ Taqueria (1,613,248,651,393): 0.0082\n",
      "- Butcher and the Rye (694,275,420,208,58,641,1): 0.0079\n",
      "- Church Brew Works (275,1,58,201,604,575,641): 0.0078\n",
      "- Everyday Noodles (631,620,791,1): 0.0073\n",
      "- Naturoll Creamery (653,575,641,262,414): 0.0071\n",
      "- B52 Cafe (496,158,636,173,162,641,362,1): 0.0071\n",
      "- Central Diner & Grille (891,594,604,83,1): 0.0070\n",
      "- Primanti Bros (289,275,58,1,341,306,420): 0.0068\n",
      "- Mount Everest Sushi (550,1,870,217,641,844,861): 0.0068\n",
      "- Fat Heads Saloon (1,275,604,58): 0.0066\n",
      "- Senyai Thai Kitchen (1,620,631,370,83): 0.0066\n",
      "- Redhawk Coffee (1,162,344,173,575,641): 0.0065\n",
      "- Hofbrauhaus Pittsburgh (641,275,100,829,1,201,855,58): 0.0064\n",
      "- Sienna Mercato (208,405,420,58,275,82,1): 0.0064\n",
      "- Coca Cafe (162,641,1,370,173,420): 0.0063\n",
      "- Deluca's Diner (162,594,604,1): 0.0062\n",
      "- Mineo's Pizza House (653,82,575,1,405,641): 0.0062\n",
      "- Pittsburgh Poke (370,844,870,641,1,550): 0.0061\n",
      "- Istanbul Sofra (891,447,79,1,158,189,641): 0.0061\n",
      "- Kelly O's Diner (162,1,594,604): 0.0060\n",
      "- Nicky's Thai Kitchen (370,575,1,83,496,641): 0.0060\n",
      "- The Yard (420,58,1,188,275): 0.0057\n",
      "- Tres Rios (208,275,1,651,58): 0.0057\n",
      "- The Milk Shake Factory (641,653,838,575,262): 0.0056\n"
     ]
    }
   ],
   "source": [
    "centralidade_intermediacao = nx.betweenness_centrality(G)\n",
    "print(\"\\n--- Top 50 em Centralidade de Intermediação (Pontes) ---\")\n",
    "s_intermediacao = pd.Series(centralidade_intermediacao).nlargest(50)\n",
    "for node_id, centralidade in s_intermediacao.items():\n",
    "    nome = G.nodes[node_id].get('name', node_id)\n",
    "    categorias = G.nodes[node_id].get('categories', 'N/A')\n",
    "    print(f\"- {nome} ({categorias}): {centralidade:.4f}\")"
   ]
  },
  {
   "cell_type": "markdown",
   "id": "9b4e420c",
   "metadata": {},
   "source": [
    "#### c) Compute a centralidade de proximidade e identifique os top 50 lugares de acordo com essa métrica."
   ]
  },
  {
   "cell_type": "code",
   "execution_count": 12,
   "id": "f46288a0",
   "metadata": {},
   "outputs": [
    {
     "name": "stdout",
     "output_type": "stream",
     "text": [
      "\n",
      "--- Top 50 em Centralidade de Proximidade (Eficiência) ---\n",
      "- Gaucho Parrilla Argentina (221,64,1,83): 0.3387\n",
      "- täkō (1,420,651): 0.3367\n",
      "- Condado Tacos (1,393,275,208,58,651): 0.3362\n",
      "- Smallman Galley (275,604,420,173,1,58,641): 0.3337\n",
      "- Bakersfield (58,275,393,208,420,83,651,1): 0.3337\n",
      "- Noodlehead (370,1,620,641): 0.3323\n",
      "- Meat & Potatoes (428,641,262,490,420,1,188): 0.3320\n",
      "- DiAnoia's Eatery (1,287,289,405): 0.3314\n",
      "- Pork & Beans (604,1,208,612,58,275,437,706,133,641,289,613,330): 0.3218\n",
      "- Piada Italian Street Food (741,1,405,46): 0.3212\n",
      "- Southern Tier Brewery Pittsburgh (58,201,1,100,275,641,188): 0.3195\n",
      "- Social House Seven (1,861,791,870,550): 0.3180\n",
      "- Pirata (289,208,817,58,275,1): 0.3162\n",
      "- Banh Mi & Ti (1,362,857,204,641): 0.3147\n",
      "- Altius (133,641,1,275,5,58,420,575): 0.3145\n",
      "- Butcher and the Rye (694,275,420,208,58,641,1): 0.3120\n",
      "- City Works - Pittsburgh (420,100,612,604,1,58,341,275): 0.3105\n",
      "- The Milk Shake Factory (641,653,838,575,262): 0.3101\n",
      "- Ki Ramen (1,620,661,870,275,58): 0.3100\n",
      "- Millie's Homemade Ice Cream (1,289,641,653): 0.3100\n",
      "- Primanti Bros (289,1,618,341,275,501,58,420): 0.3097\n",
      "- Church Brew Works (275,1,58,201,604,575,641): 0.3092\n",
      "- The Abbey on Butler Street (275,420,362,641,1,58,173): 0.3081\n",
      "- The Urban Tap (420,602,741,188,1,604,289): 0.3079\n",
      "- Proper Brick Oven & Tap Room (405,641,696,58,1,82,275): 0.3079\n",
      "- Smoke BBQ Taqueria (1,613,248,651,393): 0.3078\n",
      "- Muddy Waters Oyster Bar (208,275,58,354,1,83): 0.3077\n",
      "- Primanti Bros (289,275,58,1,341,306,420): 0.3071\n",
      "- Emporio: A Meatball Joint (58,405,641,275,575,420,116,1): 0.3070\n",
      "- Pittsburgh Poke (370,844,870,641,1,550): 0.3066\n",
      "- Ten Penny (1,420,604): 0.3063\n",
      "- The Porch at Schenley (1,602,289,82,248,420): 0.3063\n",
      "- Casbah (1,275,208,366,594,447,58,891,162): 0.3052\n",
      "- Redhawk Coffee (1,162,344,173,575,641): 0.3051\n",
      "- Deluca's Diner (162,594,604,1): 0.3051\n",
      "- Senyai Thai Kitchen (1,620,631,370,83): 0.3042\n",
      "- Eleven (1,420): 0.3035\n",
      "- P&G's Pamela's Diner (289,162,1,594): 0.3034\n",
      "- Everyday Noodles (631,620,791,1): 0.3033\n",
      "- Burgh'ers Brewing (248,420,133,641,289,1,741,706,127,201): 0.3028\n",
      "- Sienna Mercato (208,405,420,58,275,82,1): 0.3026\n",
      "- Umami (1,550,58,870,275): 0.3021\n",
      "- Coca Cafe (162,641,1,370,173,420): 0.3019\n",
      "- Mindful Brewing Company (641,201,696): 0.3019\n",
      "- Grist House Craft Brewery (201,641): 0.3017\n",
      "- Central Diner & Grille (891,594,604,83,1): 0.3014\n",
      "- The Yard (420,58,1,188,275): 0.3010\n",
      "- Mount Everest Sushi (550,1,870,217,641,844,861): 0.3008\n",
      "- The Vandal (1,420,366,362,275,818,162,173,49,248,58,289,641): 0.2996\n",
      "- B52 Cafe (496,158,636,173,162,641,362,1): 0.2995\n"
     ]
    }
   ],
   "source": [
    "centralidade_proximidade = nx.closeness_centrality(G)\n",
    "print(\"\\n--- Top 50 em Centralidade de Proximidade (Eficiência) ---\")\n",
    "s_proximidade = pd.Series(centralidade_proximidade).nlargest(50)\n",
    "for node_id, centralidade in s_proximidade.items():\n",
    "    nome = G.nodes[node_id].get('name', node_id)\n",
    "    categorias = G.nodes[node_id].get('categories', 'N/A')\n",
    "    print(f\"- {nome} ({categorias}): {centralidade:.4f}\")"
   ]
  },
  {
   "cell_type": "markdown",
   "id": "a21276d1",
   "metadata": {},
   "source": [
    "#### d) Compute a centralidade de autovetor e identifique os top 50 lugares de acordo com essa métrica."
   ]
  },
  {
   "cell_type": "code",
   "execution_count": 13,
   "id": "c5b94cd9",
   "metadata": {},
   "outputs": [
    {
     "name": "stdout",
     "output_type": "stream",
     "text": [
      "\n",
      "--- Top 50 em Centralidade de Autovetor (Influência) ---\n",
      "- Gaucho Parrilla Argentina (221,64,1,83): 0.1746\n",
      "- täkō (1,420,651): 0.1719\n",
      "- Bakersfield (58,275,393,208,420,83,651,1): 0.1632\n",
      "- Condado Tacos (1,393,275,208,58,651): 0.1616\n",
      "- DiAnoia's Eatery (1,287,289,405): 0.1588\n",
      "- Meat & Potatoes (428,641,262,490,420,1,188): 0.1556\n",
      "- Smallman Galley (275,604,420,173,1,58,641): 0.1555\n",
      "- Noodlehead (370,1,620,641): 0.1467\n",
      "- Piada Italian Street Food (741,1,405,46): 0.1254\n",
      "- Pork & Beans (604,1,208,612,58,275,437,706,133,641,289,613,330): 0.1193\n",
      "- Social House Seven (1,861,791,870,550): 0.1103\n",
      "- Southern Tier Brewery Pittsburgh (58,201,1,100,275,641,188): 0.1085\n",
      "- Altius (133,641,1,275,5,58,420,575): 0.1082\n",
      "- Banh Mi & Ti (1,362,857,204,641): 0.1074\n",
      "- Pirata (289,208,817,58,275,1): 0.1013\n",
      "- Millie's Homemade Ice Cream (1,289,641,653): 0.0922\n",
      "- Butcher and the Rye (694,275,420,208,58,641,1): 0.0909\n",
      "- Ki Ramen (1,620,661,870,275,58): 0.0865\n",
      "- City Works - Pittsburgh (420,100,612,604,1,58,341,275): 0.0851\n",
      "- Muddy Waters Oyster Bar (208,275,58,354,1,83): 0.0847\n",
      "- The Milk Shake Factory (641,653,838,575,262): 0.0842\n",
      "- Emporio: A Meatball Joint (58,405,641,275,575,420,116,1): 0.0833\n",
      "- Primanti Bros (289,1,618,341,275,501,58,420): 0.0822\n",
      "- Church Brew Works (275,1,58,201,604,575,641): 0.0821\n",
      "- The Porch at Schenley (1,602,289,82,248,420): 0.0813\n",
      "- Proper Brick Oven & Tap Room (405,641,696,58,1,82,275): 0.0801\n",
      "- Ten Penny (1,420,604): 0.0790\n",
      "- The Abbey on Butler Street (275,420,362,641,1,58,173): 0.0787\n",
      "- Primanti Bros (289,275,58,1,341,306,420): 0.0776\n",
      "- Eleven (1,420): 0.0775\n",
      "- The Urban Tap (420,602,741,188,1,604,289): 0.0772\n",
      "- Deluca's Diner (162,594,604,1): 0.0763\n",
      "- Redhawk Coffee (1,162,344,173,575,641): 0.0755\n",
      "- Senyai Thai Kitchen (1,620,631,370,83): 0.0745\n",
      "- P&G's Pamela's Diner (289,162,1,594): 0.0742\n",
      "- Smoke BBQ Taqueria (1,613,248,651,393): 0.0733\n",
      "- Pittsburgh Poke (370,844,870,641,1,550): 0.0719\n",
      "- Casbah (1,275,208,366,594,447,58,891,162): 0.0708\n",
      "- Burgh'ers Brewing (248,420,133,641,289,1,741,706,127,201): 0.0700\n",
      "- Sienna Mercato (208,405,420,58,275,82,1): 0.0696\n",
      "- Umami (1,550,58,870,275): 0.0688\n",
      "- Mount Everest Sushi (550,1,870,217,641,844,861): 0.0681\n",
      "- Grist House Craft Brewery (201,641): 0.0666\n",
      "- Everyday Noodles (631,620,791,1): 0.0665\n",
      "- Coca Cafe (162,641,1,370,173,420): 0.0651\n",
      "- B52 Cafe (496,158,636,173,162,641,362,1): 0.0636\n",
      "- Monterey Bay Fish Grotto (208,366,58,83,275,1): 0.0633\n",
      "- Casellula (366,420,275,612,1,58): 0.0631\n",
      "- Istanbul Sofra (891,447,79,1,158,189,641): 0.0631\n",
      "- Morcilla (562,1): 0.0629\n"
     ]
    }
   ],
   "source": [
    "centralidade_autovetor = nx.eigenvector_centrality(G, max_iter=1000)\n",
    "print(\"\\n--- Top 50 em Centralidade de Autovetor (Influência) ---\")\n",
    "s_autovetor = pd.Series(centralidade_autovetor).nlargest(50)\n",
    "for node_id, centralidade in s_autovetor.items():\n",
    "    nome = G.nodes[node_id].get('name', node_id)\n",
    "    categorias = G.nodes[node_id].get('categories', 'N/A')\n",
    "    print(f\"- {nome} ({categorias}): {centralidade:.4f}\")"
   ]
  },
  {
   "cell_type": "markdown",
   "id": "fb1ee83b",
   "metadata": {},
   "source": [
    "#### e) Interprete os resultados obtido nas letras a, b e c. O que pode explicar as diferenças nosranqueamentos? Dica, interprete o que a métrica captura. Esse resultado é inesperado de algumaforma?\n",
    "\n",
    "R: As centralidades calculadas revelam diferentes dimensões da posição dos nós na rede. A centralidade de grau evidencia os estabelecimentos mais populares em termos de conexões diretas, enquanto a de intermediação destaca aqueles que atuam como pontes estruturais entre comunidades, justificando pequenas variações nos rankings. Já a centralidade de proximidade identifica os vértices mais eficientes no alcance da rede, e a de autovetor ressalta a influência de nós conectados a outros altamente centrais, o que explica a ascensão dos nós `DiAnoia's Eatery` e `Meat & Potatoes`. As diferenças observadas não são inesperadas, pois cada métrica captura aspectos distintos da estrutura, ainda que um conjunto recorrente de vértices se mantenha entre os mais centrais, reforçando o caráter descentralizado da rede."
   ]
  },
  {
   "cell_type": "markdown",
   "id": "d874b676",
   "metadata": {},
   "source": [
    "### 2- Considere a seguinte rede e responda as questões abaixo."
   ]
  },
  {
   "cell_type": "code",
   "execution_count": 20,
   "id": "5ec69858",
   "metadata": {},
   "outputs": [
    {
     "data": {
      "text/plain": [
       "NodeView(('a', 'b', 'c'))"
      ]
     },
     "execution_count": 20,
     "metadata": {},
     "output_type": "execute_result"
    }
   ],
   "source": [
    "H = nx.DiGraph()\n",
    "H.add_node(\"a\")\n",
    "H.add_node(\"b\")\n",
    "H.add_node(\"c\")\n",
    "H.nodes()"
   ]
  },
  {
   "cell_type": "code",
   "execution_count": 21,
   "id": "0cb56edb",
   "metadata": {},
   "outputs": [
    {
     "data": {
      "text/plain": [
       "OutEdgeView([('a', 'a'), ('a', 'b'), ('a', 'c'), ('b', 'a'), ('b', 'c'), ('c', 'b'), ('c', 'c')])"
      ]
     },
     "execution_count": 21,
     "metadata": {},
     "output_type": "execute_result"
    }
   ],
   "source": [
    "H.add_edge(\"a\", \"a\") \n",
    "H.add_edge(\"a\", \"b\")\n",
    "H.add_edge(\"a\", \"c\")\n",
    "\n",
    "H.add_edge(\"b\", \"a\")\n",
    "H.add_edge(\"b\", \"c\")\n",
    "\n",
    "H.add_edge(\"c\", \"b\") \n",
    "H.add_edge(\"c\", \"c\") \n",
    "\n",
    "H.edges()"
   ]
  },
  {
   "cell_type": "code",
   "execution_count": 19,
   "id": "984fe778",
   "metadata": {},
   "outputs": [
    {
     "data": {
      "image/png": "[encoded data removed]",
      "text/plain": [
       "<Figure size 640x480 with 1 Axes>"
      ]
     },
     "metadata": {},
     "output_type": "display_data"
    }
   ],
   "source": [
    "nx.draw(H, with_labels=True, font_weight='bold')"
   ]
  },
  {
   "cell_type": "markdown",
   "id": "b5715eb7",
   "metadata": {},
   "source": [
    "#### a) O que acontece com as valores de PageRank dos nós conforme você aumenta o parâmetro de amortecimento (α) ?"
   ]
  },
  {
   "cell_type": "code",
   "execution_count": 27,
   "id": "f662c7a4",
   "metadata": {},
   "outputs": [
    {
     "name": "stdout",
     "output_type": "stream",
     "text": [
      "0.00 -> {'a': 0.33327773148148143, 'b': 0.3332778148148148, 'c': 0.3334444537037037}\n",
      "0.10 -> {'a': 0.32731746399176953, 'b': 0.3281378343621399, 'c': 0.3445447016460905}\n",
      "0.30 -> {'a': 0.3125499270833333, 'b': 0.3197442552083333, 'c': 0.36770581770833327}\n",
      "0.50 -> {'a': 0.29411760433014644, 'b': 0.3137255529438474, 'c': 0.392156842726006}\n",
      "0.70 -> {'a': 0.2718822008535825, 'b': 0.3098374235642723, 'c': 0.41828037558214515}\n",
      "0.90 -> {'a': 0.24557340854717466, 'b': 0.3079293338725235, 'c': 0.4464972575803019}\n",
      "0.99 -> {'a': 0.2323019278265982, 'b': 0.3076944728588618, 'c': 0.4600035993145401}\n"
     ]
    }
   ],
   "source": [
    "#PageRank centrality is a method for assessing node importance within a network by considering the number and quality of incoming links, with links from important nodes carrying more weight\n",
    "\n",
    "alphas = [0.001, 0.1, 0.3, 0.5, 0.7, 0.9, 0.99]\n",
    "pageranks = {alpha: nx.pagerank(H, alpha=alpha) for alpha in alphas}\n",
    "\n",
    "# Visualizar\n",
    "for alpha, pr in pageranks.items():\n",
    "    print(f\"{alpha:.2f} -> {pr}\")"
   ]
  },
  {
   "cell_type": "code",
   "execution_count": 29,
   "id": "2e040d13",
   "metadata": {},
   "outputs": [
    {
     "data": {
      "image/png": "[encoded data removed]",
      "text/plain": [
       "<Figure size 800x500 with 1 Axes>"
      ]
     },
     "metadata": {},
     "output_type": "display_data"
    }
   ],
   "source": [
    "plt.figure(figsize=(8,5))\n",
    "for node in H.nodes():\n",
    "    plt.plot(alphas, [pageranks[a][node] for a in alphas], marker=\"o\", label=f\"Nó {node}\")\n",
    "\n",
    "plt.xlabel(\"Alpha (damping factor)\")\n",
    "plt.ylabel(\"PageRank\")\n",
    "plt.title(\"Efeito do parâmetro alpha no PageRank\")\n",
    "plt.legend()\n",
    "plt.grid(True)\n",
    "plt.show()"
   ]
  },
  {
   "cell_type": "markdown",
   "id": "effd070f",
   "metadata": {},
   "source": [
    "R: Conforme o parâmetro de amortecimento (α) aumenta, o PageRank reflete mais a estrutura do grafo: o nó `c` ganha destaque por receber conexões de todos e ter laço próprio, enquanto `a` perde relevância e `b` permanece estável. Para valores baixos de α, os nós ficam próximos em importância, mas conforme α cresce, as diferenças estruturais se tornam mais evidentes."
   ]
  },
  {
   "cell_type": "markdown",
   "id": "9ddce2fa",
   "metadata": {},
   "source": [
    "#### b) O que acontece com as valores de PageRank dos nós quando o parâmetro de amortecimento (α) é 0? Explique a sua resposta.\n",
    "R: Quando α = 0, o PageRank ignora a estrutura do grafo e considera apenas “saltos aleatórios” uniformes. Isso significa que todos os nós recebem exatamente a mesma pontuação, independentemente de quantas conexões têm."
   ]
  },
  {
   "cell_type": "markdown",
   "id": "53e4a178",
   "metadata": {},
   "source": [
    "### 3- Explique resumidamente a ideia de Hubs e Authorities no contexto de métricas de centralidade de rede. \n",
    "R: Hub é um nó que aponta para muitos nós de alta autoridade, enquanto uma authority é um nó que recebe links de bons hubs. Ou seja, os hubs funcionam como índices que indicam onde encontrar informação relevante, e authorities representam o conteúdo de confiança e prestígio dentro da rede. Eles possuem uma relação recíproca: bons hubs aumentam a importância das authorities e vice-versa. Essa métrica capta não apenas popularidade (como o PageRank), mas também a estrutura temática da rede, podendo ser utilizada em sistemas de busca e análise de redes.\n",
    "\n",
    "No contexto das métricas de centralidade, o modelo HITS se diferencia por avaliar dois papéis complementares dentro da rede: a capacidade de um nó de referenciar boas fontes (centralidade de hub) e de ser reconhecido como fonte relevante (centralidade de authority). Assim, enquanto métricas como grau, intermediação ou proximidade medem aspectos estruturais gerais de influência e conectividade, hubs e authorities fornecem uma visão mais refinada sobre papéis funcionais que os nós desempenham na difusão e organização da informação, especialmente em redes direcionadas como a Web."
   ]
  }
 ],
 "metadata": {
  "kernelspec": {
   "display_name": ".venv",
   "language": "python",
   "name": "python3"
  },
  "language_info": {
   "codemirror_mode": {
    "name": "ipython",
    "version": 3
   },
   "file_extension": ".py",
   "mimetype": "text/x-python",
   "name": "python",
   "nbconvert_exporter": "python",
   "pygments_lexer": "ipython3",
   "version": "3.13.3"
  }
 },
 "nbformat": 4,
 "nbformat_minor": 5
}
